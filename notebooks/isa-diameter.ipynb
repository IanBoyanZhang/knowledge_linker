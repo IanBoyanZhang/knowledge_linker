{
 "metadata": {
  "name": "isa-diameter"
 },
 "nbformat": 3,
 "nbformat_minor": 0,
 "worksheets": [
  {
   "cells": [
    {
     "cell_type": "heading",
     "level": 1,
     "metadata": {},
     "source": [
      "Diameter calculation for the is-a graph"
     ]
    },
    {
     "cell_type": "code",
     "collapsed": false,
     "input": [
      "import networkx as nx\n",
      "import numpy as np\n",
      "import closure"
     ],
     "language": "python",
     "metadata": {},
     "outputs": [],
     "prompt_number": 2
    },
    {
     "cell_type": "code",
     "collapsed": false,
     "input": [
      "%cd ~/data/dbpedia\n",
      "N =!wc -l ./nodes_isa.txt | cut -d ' ' -f1\n",
      "N = int(N[0])\n",
      "print 'There are %d nodes in the is-a graph.' % N"
     ],
     "language": "python",
     "metadata": {},
     "outputs": [
      {
       "output_type": "stream",
       "stream": "stdout",
       "text": [
        "/home/gfs/cnets/research/gciampag/dbpedia\n"
       ]
      },
      {
       "output_type": "stream",
       "stream": "stdout",
       "text": [
        "There are 2351254 nodes in the is-a graph.\n"
       ]
      }
     ],
     "prompt_number": 3
    },
    {
     "cell_type": "markdown",
     "metadata": {},
     "source": [
      "Let's load the `is-a` graph:"
     ]
    },
    {
     "cell_type": "code",
     "collapsed": false,
     "input": [
      "isa_coords = np.load('./adjacency_isa.npy')\n",
      "isa_adj = closure.recstosparse(isa_coords, (N,N))\n",
      "isa_graph = nx.DiGraph(isa_adj)"
     ],
     "language": "python",
     "metadata": {},
     "outputs": [],
     "prompt_number": 6
    },
    {
     "cell_type": "code",
     "collapsed": false,
     "input": [
      "print 'There are %d edges' % isa_graph.number_of_edges()"
     ],
     "language": "python",
     "metadata": {},
     "outputs": [
      {
       "output_type": "stream",
       "stream": "stdout",
       "text": [
        "There are 13225156 edges\n"
       ]
      }
     ],
     "prompt_number": 7
    },
    {
     "cell_type": "markdown",
     "metadata": {},
     "source": [
      "We now check the connectivity of the graph:"
     ]
    },
    {
     "cell_type": "code",
     "collapsed": false,
     "input": [
      "is_scc = nx.is_strongly_connected(isa_graph)\n",
      "n_scc = nx.number_strongly_connected_components(isa_graph)\n",
      "print 'Is the graph a strongly connected component? %s' % is_scc\n",
      "print 'The number of connected components in the graph is %d' % n_scc\n",
      "is_wcc = nx.is_weakly_connected(isa_graph)\n",
      "n_wcc = nx.number_weakly_connected_components(isa_graph)\n",
      "print 'Is the graph weakly connected? %s' % is_wcc\n",
      "print 'The number of connected components in the graph is %d' % n_wcc"
     ],
     "language": "python",
     "metadata": {},
     "outputs": [
      {
       "output_type": "stream",
       "stream": "stdout",
       "text": [
        "Is the graph a strongly connected component? False\n",
        "The number of connected components in the graph is 2351254\n",
        "Is the graph weakly connected? True"
       ]
      },
      {
       "output_type": "stream",
       "stream": "stdout",
       "text": [
        "\n",
        "The number of connected components in the graph is 1\n"
       ]
      }
     ],
     "prompt_number": 8
    },
    {
     "cell_type": "markdown",
     "metadata": {},
     "source": [
      "Because the number of strongly connected components is equal to the number of nodes, we conclude that the is-a graph is acyclical. Let's now compute the diameter of the graph."
     ]
    },
    {
     "cell_type": "code",
     "collapsed": false,
     "input": [
      "apsp = nx.shortest_path_length(isa_graph)\n",
      "from functools import partial\n",
      "filter0 = partial(filter, None)\n",
      "apsp_flat = filter0(map(filter0, map(dict.itervalues, apsp.itervalues())))\n",
      "print 'the diameter of the graph is %d' % max(map(max, apsp_flat))"
     ],
     "language": "python",
     "metadata": {},
     "outputs": [
      {
       "output_type": "stream",
       "stream": "stdout",
       "text": [
        "the diameter of the graph is 1\n"
       ]
      }
     ],
     "prompt_number": 34
    }
   ],
   "metadata": {}
  }
 ]
}