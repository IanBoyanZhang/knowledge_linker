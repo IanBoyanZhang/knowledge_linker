{
 "metadata": {
  "name": "maxmin_thing"
 },
 "nbformat": 3,
 "nbformat_minor": 0,
 "worksheets": [
  {
   "cells": [
    {
     "cell_type": "markdown",
     "metadata": {},
     "source": [
      "The data are stored on GFS under /l/cnets/data/gciampag/dbpedia."
     ]
    },
    {
     "cell_type": "code",
     "collapsed": false,
     "input": [
      "%cd ~/data/dbpedia"
     ],
     "language": "python",
     "metadata": {},
     "outputs": [
      {
       "output_type": "stream",
       "stream": "stdout",
       "text": [
        "/home/gfs/cnets/research/gciampag/dbpedia\n"
       ]
      }
     ],
     "prompt_number": 1
    },
    {
     "cell_type": "markdown",
     "metadata": {},
     "source": [
      "We need to get the number of nodes. Currently we just count how many lines are in file `nodes_isa.txt`"
     ]
    },
    {
     "cell_type": "code",
     "collapsed": false,
     "input": [
      "N = !wc -l nodes_isa.txt | cut -d ' ' -f1\n",
      "N = int(N[0])\n",
      "print \"there are %d nodes.\" % N"
     ],
     "language": "python",
     "metadata": {},
     "outputs": [
      {
       "output_type": "stream",
       "stream": "stdout",
       "text": [
        "there are 2351254 nodes.\n"
       ]
      }
     ],
     "prompt_number": 2
    },
    {
     "cell_type": "code",
     "collapsed": false,
     "input": [
      "import numpy as np\n",
      "import closure\n",
      "from pylab import *\n",
      "import scipy.sparse as sp"
     ],
     "language": "python",
     "metadata": {},
     "outputs": [],
     "prompt_number": 3
    },
    {
     "cell_type": "markdown",
     "metadata": {},
     "source": [
      "Let's load the closure graph."
     ]
    },
    {
     "cell_type": "code",
     "collapsed": false,
     "input": [
      "tcoord = np.load('./closure_isa.npy.bak')\n",
      "tadj = closure.recstosparse(tcoord, (N, N))\n",
      "tweights = tadj.data"
     ],
     "language": "python",
     "metadata": {},
     "outputs": [],
     "prompt_number": 4
    },
    {
     "cell_type": "code",
     "collapsed": false,
     "input": [
      "hist(tweights, bins=50)\n",
      "show()"
     ],
     "language": "python",
     "metadata": {},
     "outputs": [
      {
       "output_type": "display_data",
       "png": "[encoded data removed]"
      }
     ],
     "prompt_number": 5
    },
    {
     "cell_type": "code",
     "collapsed": false,
     "input": [
      "print 'the minimum weight is %g' % np.min(tweights)\n",
      "print 'the maximum weight is %g' % np.max(tweights)\n",
      "print 'the difference is %g' % np.ptp(tweights)\n",
      "n = np.sum(tweights > 0.1)\n",
      "pn = float(n) / len(tcoord)\n",
      "print 'number of weights greater than 0.1: %d out of %d (%.2e %%)' %  (n,len(tcoord),pn)"
     ],
     "language": "python",
     "metadata": {},
     "outputs": [
      {
       "output_type": "stream",
       "stream": "stdout",
       "text": [
        "the minimum weight is 4.25368e-07\n",
        "the maximum weight is 0.5\n",
        "the difference is 0.5"
       ]
      },
      {
       "output_type": "stream",
       "stream": "stdout",
       "text": [
        "\n",
        "number of weights greater than 0.1: 66 out of 13225156 (4.99e-06 %)"
       ]
      },
      {
       "output_type": "stream",
       "stream": "stdout",
       "text": [
        "\n"
       ]
      }
     ],
     "prompt_number": 6
    },
    {
     "cell_type": "markdown",
     "metadata": {},
     "source": [
      "The vast majority of weights are all very small. Let's try to visualize the CDF in a log-log plot"
     ]
    },
    {
     "cell_type": "code",
     "collapsed": false,
     "input": [
      "tws = np.sort(tweights)\n",
      "tr = np.arange(len(tcoord),0,-1, dtype=float) / len(tcoord)"
     ],
     "language": "python",
     "metadata": {},
     "outputs": [],
     "prompt_number": 7
    },
    {
     "cell_type": "code",
     "collapsed": false,
     "input": [
      "loglog(tws, tr, 'o')\n",
      "show()"
     ],
     "language": "python",
     "metadata": {},
     "outputs": [
      {
       "output_type": "display_data",
       "png": "[encoded data removed]"
      }
     ],
     "prompt_number": 8
    },
    {
     "cell_type": "markdown",
     "metadata": {},
     "source": [
      "The graph is heavy tailed, but it makes sense since the weights are a monotonic transformation of the in-degrees of the original graph. So the question is: how much the transitive closure changed the original graph? Let's load the original `rdf:type` graph. We need to compute the original weights."
     ]
    },
    {
     "cell_type": "code",
     "collapsed": false,
     "input": [
      "coords = np.load('./adjacency_isa.npy')\n",
      "print coords\n",
      "adj = closure.recstosparse(coords, (N, N))\n",
      "indeg = closure.indegree(adj)\n",
      "weights = closure.disttosim(indeg[coords['col']])\n",
      "adj = sp.csr_matrix((weights, (coords['row'], coords['col'])), shape=(N,N))\n",
      "r = np.arange(len(coords), 0, -1, dtype=float) / len(coords)"
     ],
     "language": "python",
     "metadata": {},
     "outputs": [
      {
       "output_type": "stream",
       "stream": "stdout",
       "text": [
        "[(280280, 88, 1.0) (280280, 2351210, 1.0) (231105, 46, 1.0) ...,\n",
        " (577834, 2351210, 1.0) (577834, 2351239, 1.0) (577834, 6, 1.0)]\n"
       ]
      }
     ],
     "prompt_number": 9
    },
    {
     "cell_type": "code",
     "collapsed": false,
     "input": [
      "loglog(tws, tr, 'ob', ws, r, '^r', alpha=0.5)\n",
      "show()"
     ],
     "language": "python",
     "metadata": {},
     "outputs": [
      {
       "output_type": "display_data",
       "png": "[encoded data removed]"
      }
     ],
     "prompt_number": 10
    },
    {
     "cell_type": "code",
     "collapsed": false,
     "input": [
      "dadj = adj - tadj\n",
      "dweights = dadj.tocoo().data\n",
      "dweights"
     ],
     "language": "python",
     "metadata": {},
     "outputs": [
      {
       "output_type": "pyout",
       "prompt_number": 11,
       "text": [
        "<2351254x2351254 sparse matrix of type '<type 'numpy.float64'>'\n",
        "\twith 0 stored elements in Compressed Sparse Row format>"
       ]
      }
     ],
     "prompt_number": 11
    },
    {
     "cell_type": "code",
     "collapsed": false,
     "input": [
      "print 'Are all weights equal? %s' % (dweights == 0).all()\n",
      "print 'Number of differing weights: %d out of %d' % ((dweights > 0).sum(), len(coords))\n",
      "print 'difference: avg = %g, max = %g, min = %g' % (dweights.mean(), dweights.max(), dweights.min())"
     ],
     "language": "python",
     "metadata": {},
     "outputs": [
      {
       "ename": "ValueError",
       "evalue": "zero-size array to maximum.reduce without identity",
       "output_type": "pyerr",
       "traceback": [
        "\u001b[1;31m---------------------------------------------------------------------------\u001b[0m\n\u001b[1;31mValueError\u001b[0m                                Traceback (most recent call last)",
        "\u001b[1;32m<ipython-input-55-3840d9e13521>\u001b[0m in \u001b[0;36m<module>\u001b[1;34m()\u001b[0m\n\u001b[0;32m      1\u001b[0m \u001b[1;32mprint\u001b[0m \u001b[1;34m'Are all weights equal? %s'\u001b[0m \u001b[1;33m%\u001b[0m \u001b[1;33m(\u001b[0m\u001b[0mdweights\u001b[0m \u001b[1;33m==\u001b[0m \u001b[1;36m0\u001b[0m\u001b[1;33m)\u001b[0m\u001b[1;33m.\u001b[0m\u001b[0mall\u001b[0m\u001b[1;33m(\u001b[0m\u001b[1;33m)\u001b[0m\u001b[1;33m\u001b[0m\u001b[0m\n\u001b[0;32m      2\u001b[0m \u001b[1;32mprint\u001b[0m \u001b[1;34m'Number of differing weights: %d out of %d'\u001b[0m \u001b[1;33m%\u001b[0m \u001b[1;33m(\u001b[0m\u001b[1;33m(\u001b[0m\u001b[0mdweights\u001b[0m \u001b[1;33m>\u001b[0m \u001b[1;36m0\u001b[0m\u001b[1;33m)\u001b[0m\u001b[1;33m.\u001b[0m\u001b[0msum\u001b[0m\u001b[1;33m(\u001b[0m\u001b[1;33m)\u001b[0m\u001b[1;33m,\u001b[0m \u001b[0mlen\u001b[0m\u001b[1;33m(\u001b[0m\u001b[0mcoords\u001b[0m\u001b[1;33m)\u001b[0m\u001b[1;33m)\u001b[0m\u001b[1;33m\u001b[0m\u001b[0m\n\u001b[1;32m----> 3\u001b[1;33m \u001b[1;32mprint\u001b[0m \u001b[1;34m'difference: avg = %g, max = %g, min = %g'\u001b[0m \u001b[1;33m%\u001b[0m \u001b[1;33m(\u001b[0m\u001b[0mdweights\u001b[0m\u001b[1;33m.\u001b[0m\u001b[0mmean\u001b[0m\u001b[1;33m(\u001b[0m\u001b[1;33m)\u001b[0m\u001b[1;33m,\u001b[0m \u001b[0mdweights\u001b[0m\u001b[1;33m.\u001b[0m\u001b[0mmax\u001b[0m\u001b[1;33m(\u001b[0m\u001b[1;33m)\u001b[0m\u001b[1;33m,\u001b[0m \u001b[0mdweights\u001b[0m\u001b[1;33m.\u001b[0m\u001b[0mmin\u001b[0m\u001b[1;33m(\u001b[0m\u001b[1;33m)\u001b[0m\u001b[1;33m)\u001b[0m\u001b[1;33m\u001b[0m\u001b[0m\n\u001b[0m",
        "\u001b[1;31mValueError\u001b[0m: zero-size array to maximum.reduce without identity"
       ]
      },
      {
       "output_type": "stream",
       "stream": "stdout",
       "text": [
        "Are all weights equal? True\n",
        "Number of differing weights: 0 out of 13225156\n"
       ]
      },
      {
       "output_type": "stream",
       "stream": "stderr",
       "text": [
        "maxmin.pyc:3: RuntimeWarning: invalid value encountered in double_scalars\n"
       ]
      }
     ],
     "prompt_number": 55
    },
    {
     "cell_type": "code",
     "collapsed": false,
     "input": [
      "print 'number weight diff < 0: %d' % (dweights < 0).sum()\n",
      "print 'number weight diff > 0: %d' % (dweights > 0).sum()\n",
      "print 'number weight diff = 0: %d' % (dweights == 0).sum()"
     ],
     "language": "python",
     "metadata": {},
     "outputs": [
      {
       "output_type": "stream",
       "stream": "stdout",
       "text": [
        "number weight diff < 0: 0\n",
        "number weight diff > 0: 0\n",
        "number weight diff = 0: 0\n"
       ]
      }
     ],
     "prompt_number": 56
    }
   ],
   "metadata": {}
  }
 ]
}